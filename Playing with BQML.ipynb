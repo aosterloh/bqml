{
 "cells": [
  {
   "cell_type": "markdown",
   "metadata": {},
   "source": [
    "# Playing with BigQuery ML\n",
    "This tutorial introduces data analysts to BigQuery ML. BigQuery ML enables users to create and execute machine learning models in BigQuery using SQL queries. The goal is to democratize machine learning by enabling SQL practitioners to build models using their existing tools and to increase development speed by eliminating the need for data movement.\n",
    "\n",
    "In this tutorial, you use the natality sample table to create a model that predicts the birth weight of a child based on the baby’s gender, the length of the pregnancy, and demographic information about the mother. The natality sample table contains information about every birth in the United States over a 40 year period."
   ]
  },
  {
   "cell_type": "markdown",
   "metadata": {},
   "source": [
    "## Setup\n",
    "Check the quickstart for datalab on how setup a datalab vm in a region near you. After connecting to datalab (port 8081) upload this notebook. "
   ]
  },
  {
   "cell_type": "markdown",
   "metadata": {},
   "source": [
    "## Sampling the natality dataset"
   ]
  },
  {
   "cell_type": "code",
   "execution_count": 1,
   "metadata": {},
   "outputs": [
    {
     "data": {
      "text/html": [
       "\n",
       "    <div class=\"bqtv\" id=\"1_154703247559\"><table><tr><th>source_year</th><th>year</th><th>month</th><th>day</th><th>wday</th><th>state</th><th>is_male</th><th>child_race</th><th>weight_pounds</th><th>plurality</th><th>apgar_1min</th><th>apgar_5min</th><th>mother_residence_state</th><th>mother_race</th><th>mother_age</th><th>gestation_weeks</th><th>lmp</th><th>mother_married</th><th>mother_birth_state</th><th>cigarette_use</th><th>cigarettes_per_day</th><th>alcohol_use</th><th>drinks_per_week</th><th>weight_gain_pounds</th><th>born_alive_alive</th><th>born_alive_dead</th><th>born_dead</th><th>ever_born</th><th>father_race</th><th>father_age</th><th>record_weight</th></tr><tr><td>1969</td><td>1969</td><td>3</td><td>12</td><td>&nbsp;</td><td>OR</td><td>True</td><td>1</td><td>8.12623897732</td><td>&nbsp;</td><td>&nbsp;</td><td>&nbsp;</td><td>OR</td><td>1</td><td>28</td><td>99</td><td>99991998</td><td>True</td><td></td><td>&nbsp;</td><td>&nbsp;</td><td>&nbsp;</td><td>&nbsp;</td><td>&nbsp;</td><td>3</td><td>1</td><td>1</td><td>6</td><td>1</td><td>29</td><td>2</td></tr><tr><td>1969</td><td>1969</td><td>12</td><td>22</td><td>&nbsp;</td><td>PA</td><td>False</td><td>1</td><td>8.37536133338</td><td>&nbsp;</td><td>&nbsp;</td><td>&nbsp;</td><td>PA</td><td>1</td><td>18</td><td>&nbsp;</td><td>88881998</td><td>True</td><td></td><td>&nbsp;</td><td>&nbsp;</td><td>&nbsp;</td><td>&nbsp;</td><td>&nbsp;</td><td>1</td><td>0</td><td>0</td><td>2</td><td>1</td><td>20</td><td>2</td></tr><tr><td>1970</td><td>1970</td><td>9</td><td>18</td><td>&nbsp;</td><td>GA</td><td>False</td><td>1</td><td>7.43839671988</td><td>&nbsp;</td><td>&nbsp;</td><td>&nbsp;</td><td>GA</td><td>1</td><td>18</td><td>&nbsp;</td><td>88881908</td><td>&nbsp;</td><td>GA</td><td>&nbsp;</td><td>&nbsp;</td><td>&nbsp;</td><td>&nbsp;</td><td>&nbsp;</td><td>0</td><td>0</td><td>0</td><td>1</td><td>1</td><td>21</td><td>2</td></tr><tr><td>1970</td><td>1970</td><td>6</td><td>24</td><td>&nbsp;</td><td>HI</td><td>True</td><td>6</td><td>6.87621795178</td><td>&nbsp;</td><td>&nbsp;</td><td>&nbsp;</td><td>HI</td><td>6</td><td>26</td><td>44</td><td>08171999</td><td>True</td><td>MN</td><td>&nbsp;</td><td>&nbsp;</td><td>&nbsp;</td><td>&nbsp;</td><td>&nbsp;</td><td>2</td><td>0</td><td>0</td><td>3</td><td>7</td><td>28</td><td>2</td></tr><tr><td>1970</td><td>1970</td><td>2</td><td>12</td><td>&nbsp;</td><td>NM</td><td>True</td><td>1</td><td>8.00057548798</td><td>&nbsp;</td><td>&nbsp;</td><td>&nbsp;</td><td>NM</td><td>1</td><td>24</td><td>&nbsp;</td><td>88881908</td><td>&nbsp;</td><td>CO</td><td>&nbsp;</td><td>&nbsp;</td><td>&nbsp;</td><td>&nbsp;</td><td>&nbsp;</td><td>3</td><td>0</td><td>0</td><td>4</td><td>9</td><td>99</td><td>2</td></tr></table></div>\n",
       "    <br />(rows: 5, time: 2.4s,    23GB processed, job: job_VteUPrNpCsz6XYU5muOa2d1xtD8t)<br />\n",
       "    <script src=\"/static/components/requirejs/require.js\"></script>\n",
       "    <script>\n",
       "      require.config({\n",
       "        paths: {\n",
       "          base: '/static/base',\n",
       "          d3: '//cdnjs.cloudflare.com/ajax/libs/d3/3.4.13/d3',\n",
       "          plotly: 'https://cdn.plot.ly/plotly-1.5.1.min.js?noext',\n",
       "          jquery: '//ajax.googleapis.com/ajax/libs/jquery/2.0.0/jquery.min'\n",
       "        },\n",
       "        map: {\n",
       "          '*': {\n",
       "            datalab: 'nbextensions/gcpdatalab'\n",
       "          }\n",
       "        },\n",
       "        shim: {\n",
       "          plotly: {\n",
       "            deps: ['d3', 'jquery'],\n",
       "            exports: 'plotly'\n",
       "          }\n",
       "        }\n",
       "      });\n",
       "\n",
       "      require(['datalab/charting', 'datalab/element!1_154703247559', 'base/js/events',\n",
       "          'datalab/style!/nbextensions/gcpdatalab/charting.css'],\n",
       "        function(charts, dom, events) {\n",
       "          charts.render('gcharts', dom, events, 'table', [], {\"rows\": [{\"c\": [{\"v\": 1969}, {\"v\": 1969}, {\"v\": 3}, {\"v\": 12}, {\"v\": null}, {\"v\": \"OR\"}, {\"v\": true}, {\"v\": 1}, {\"v\": 8.12623897732}, {\"v\": null}, {\"v\": null}, {\"v\": null}, {\"v\": \"OR\"}, {\"v\": 1}, {\"v\": 28}, {\"v\": 99}, {\"v\": \"99991998\"}, {\"v\": true}, {\"v\": \"\"}, {\"v\": null}, {\"v\": null}, {\"v\": null}, {\"v\": null}, {\"v\": null}, {\"v\": 3}, {\"v\": 1}, {\"v\": 1}, {\"v\": 6}, {\"v\": 1}, {\"v\": 29}, {\"v\": 2}]}, {\"c\": [{\"v\": 1969}, {\"v\": 1969}, {\"v\": 12}, {\"v\": 22}, {\"v\": null}, {\"v\": \"PA\"}, {\"v\": false}, {\"v\": 1}, {\"v\": 8.375361333379999}, {\"v\": null}, {\"v\": null}, {\"v\": null}, {\"v\": \"PA\"}, {\"v\": 1}, {\"v\": 18}, {\"v\": null}, {\"v\": \"88881998\"}, {\"v\": true}, {\"v\": \"\"}, {\"v\": null}, {\"v\": null}, {\"v\": null}, {\"v\": null}, {\"v\": null}, {\"v\": 1}, {\"v\": 0}, {\"v\": 0}, {\"v\": 2}, {\"v\": 1}, {\"v\": 20}, {\"v\": 2}]}, {\"c\": [{\"v\": 1970}, {\"v\": 1970}, {\"v\": 9}, {\"v\": 18}, {\"v\": null}, {\"v\": \"GA\"}, {\"v\": false}, {\"v\": 1}, {\"v\": 7.43839671988}, {\"v\": null}, {\"v\": null}, {\"v\": null}, {\"v\": \"GA\"}, {\"v\": 1}, {\"v\": 18}, {\"v\": null}, {\"v\": \"88881908\"}, {\"v\": null}, {\"v\": \"GA\"}, {\"v\": null}, {\"v\": null}, {\"v\": null}, {\"v\": null}, {\"v\": null}, {\"v\": 0}, {\"v\": 0}, {\"v\": 0}, {\"v\": 1}, {\"v\": 1}, {\"v\": 21}, {\"v\": 2}]}, {\"c\": [{\"v\": 1970}, {\"v\": 1970}, {\"v\": 6}, {\"v\": 24}, {\"v\": null}, {\"v\": \"HI\"}, {\"v\": true}, {\"v\": 6}, {\"v\": 6.87621795178}, {\"v\": null}, {\"v\": null}, {\"v\": null}, {\"v\": \"HI\"}, {\"v\": 6}, {\"v\": 26}, {\"v\": 44}, {\"v\": \"08171999\"}, {\"v\": true}, {\"v\": \"MN\"}, {\"v\": null}, {\"v\": null}, {\"v\": null}, {\"v\": null}, {\"v\": null}, {\"v\": 2}, {\"v\": 0}, {\"v\": 0}, {\"v\": 3}, {\"v\": 7}, {\"v\": 28}, {\"v\": 2}]}, {\"c\": [{\"v\": 1970}, {\"v\": 1970}, {\"v\": 2}, {\"v\": 12}, {\"v\": null}, {\"v\": \"NM\"}, {\"v\": true}, {\"v\": 1}, {\"v\": 8.000575487979999}, {\"v\": null}, {\"v\": null}, {\"v\": null}, {\"v\": \"NM\"}, {\"v\": 1}, {\"v\": 24}, {\"v\": null}, {\"v\": \"88881908\"}, {\"v\": null}, {\"v\": \"CO\"}, {\"v\": null}, {\"v\": null}, {\"v\": null}, {\"v\": null}, {\"v\": null}, {\"v\": 3}, {\"v\": 0}, {\"v\": 0}, {\"v\": 4}, {\"v\": 9}, {\"v\": 99}, {\"v\": 2}]}], \"cols\": [{\"type\": \"number\", \"id\": \"source_year\", \"label\": \"source_year\"}, {\"type\": \"number\", \"id\": \"year\", \"label\": \"year\"}, {\"type\": \"number\", \"id\": \"month\", \"label\": \"month\"}, {\"type\": \"number\", \"id\": \"day\", \"label\": \"day\"}, {\"type\": \"number\", \"id\": \"wday\", \"label\": \"wday\"}, {\"type\": \"string\", \"id\": \"state\", \"label\": \"state\"}, {\"type\": \"boolean\", \"id\": \"is_male\", \"label\": \"is_male\"}, {\"type\": \"number\", \"id\": \"child_race\", \"label\": \"child_race\"}, {\"type\": \"number\", \"id\": \"weight_pounds\", \"label\": \"weight_pounds\"}, {\"type\": \"number\", \"id\": \"plurality\", \"label\": \"plurality\"}, {\"type\": \"number\", \"id\": \"apgar_1min\", \"label\": \"apgar_1min\"}, {\"type\": \"number\", \"id\": \"apgar_5min\", \"label\": \"apgar_5min\"}, {\"type\": \"string\", \"id\": \"mother_residence_state\", \"label\": \"mother_residence_state\"}, {\"type\": \"number\", \"id\": \"mother_race\", \"label\": \"mother_race\"}, {\"type\": \"number\", \"id\": \"mother_age\", \"label\": \"mother_age\"}, {\"type\": \"number\", \"id\": \"gestation_weeks\", \"label\": \"gestation_weeks\"}, {\"type\": \"string\", \"id\": \"lmp\", \"label\": \"lmp\"}, {\"type\": \"boolean\", \"id\": \"mother_married\", \"label\": \"mother_married\"}, {\"type\": \"string\", \"id\": \"mother_birth_state\", \"label\": \"mother_birth_state\"}, {\"type\": \"boolean\", \"id\": \"cigarette_use\", \"label\": \"cigarette_use\"}, {\"type\": \"number\", \"id\": \"cigarettes_per_day\", \"label\": \"cigarettes_per_day\"}, {\"type\": \"boolean\", \"id\": \"alcohol_use\", \"label\": \"alcohol_use\"}, {\"type\": \"number\", \"id\": \"drinks_per_week\", \"label\": \"drinks_per_week\"}, {\"type\": \"number\", \"id\": \"weight_gain_pounds\", \"label\": \"weight_gain_pounds\"}, {\"type\": \"number\", \"id\": \"born_alive_alive\", \"label\": \"born_alive_alive\"}, {\"type\": \"number\", \"id\": \"born_alive_dead\", \"label\": \"born_alive_dead\"}, {\"type\": \"number\", \"id\": \"born_dead\", \"label\": \"born_dead\"}, {\"type\": \"number\", \"id\": \"ever_born\", \"label\": \"ever_born\"}, {\"type\": \"number\", \"id\": \"father_race\", \"label\": \"father_race\"}, {\"type\": \"number\", \"id\": \"father_age\", \"label\": \"father_age\"}, {\"type\": \"number\", \"id\": \"record_weight\", \"label\": \"record_weight\"}]},\n",
       "            {\n",
       "              pageSize: 25,\n",
       "              cssClassNames:  {\n",
       "                tableRow: 'gchart-table-row',\n",
       "                headerRow: 'gchart-table-headerrow',\n",
       "                oddTableRow: 'gchart-table-oddrow',\n",
       "                selectedTableRow: 'gchart-table-selectedrow',\n",
       "                hoverTableRow: 'gchart-table-hoverrow',\n",
       "                tableCell: 'gchart-table-cell',\n",
       "                headerCell: 'gchart-table-headercell',\n",
       "                rowNumberCell: 'gchart-table-rownumcell'\n",
       "              }\n",
       "            },\n",
       "            {source_index: 0, fields: 'source_year,year,month,day,wday,state,is_male,child_race,weight_pounds,plurality,apgar_1min,apgar_5min,mother_residence_state,mother_race,mother_age,gestation_weeks,lmp,mother_married,mother_birth_state,cigarette_use,cigarettes_per_day,alcohol_use,drinks_per_week,weight_gain_pounds,born_alive_alive,born_alive_dead,born_dead,ever_born,father_race,father_age,record_weight'},\n",
       "            0,\n",
       "            5);\n",
       "        }\n",
       "      );\n",
       "    </script>\n",
       "  "
      ],
      "text/plain": [
       "QueryResultsTable job_VteUPrNpCsz6XYU5muOa2d1xtD8t"
      ]
     },
     "execution_count": 1,
     "metadata": {},
     "output_type": "execute_result"
    }
   ],
   "source": [
    "%%bq sample --table publicdata.samples.natality --count 5"
   ]
  },
  {
   "cell_type": "markdown",
   "metadata": {},
   "source": [
    "## Saving the query"
   ]
  },
  {
   "cell_type": "code",
   "execution_count": 3,
   "metadata": {},
   "outputs": [],
   "source": [
    "%%bq query --name natality \n",
    "SELECT wday, SUM(record_weight) c\n",
    "FROM `publicdata.samples.natality`\n",
    "GROUP BY wday\n",
    "HAVING wday > 0\n",
    "ORDER BY wday"
   ]
  },
  {
   "cell_type": "markdown",
   "metadata": {},
   "source": [
    "## Running the query"
   ]
  },
  {
   "cell_type": "code",
   "execution_count": 4,
   "metadata": {},
   "outputs": [
    {
     "data": {
      "text/html": [
       "\n",
       "    <div class=\"bqtv\" id=\"2_154703250404\"><table><tr><th>wday</th><th>c</th></tr><tr><td>1</td><td>8386932</td></tr><tr><td>2</td><td>11926951</td></tr><tr><td>3</td><td>13139372</td></tr><tr><td>4</td><td>12926511</td></tr><tr><td>5</td><td>12867449</td></tr><tr><td>6</td><td>12742220</td></tr><tr><td>7</td><td>9292002</td></tr></table></div>\n",
       "    <br />(rows: 7, time: 2.0s,     1GB processed, job: job_Z74oeSMUB5k3YNLqTLgBxIz2DAB4)<br />\n",
       "    <script src=\"/static/components/requirejs/require.js\"></script>\n",
       "    <script>\n",
       "      require.config({\n",
       "        paths: {\n",
       "          base: '/static/base',\n",
       "          d3: '//cdnjs.cloudflare.com/ajax/libs/d3/3.4.13/d3',\n",
       "          plotly: 'https://cdn.plot.ly/plotly-1.5.1.min.js?noext',\n",
       "          jquery: '//ajax.googleapis.com/ajax/libs/jquery/2.0.0/jquery.min'\n",
       "        },\n",
       "        map: {\n",
       "          '*': {\n",
       "            datalab: 'nbextensions/gcpdatalab'\n",
       "          }\n",
       "        },\n",
       "        shim: {\n",
       "          plotly: {\n",
       "            deps: ['d3', 'jquery'],\n",
       "            exports: 'plotly'\n",
       "          }\n",
       "        }\n",
       "      });\n",
       "\n",
       "      require(['datalab/charting', 'datalab/element!2_154703250404', 'base/js/events',\n",
       "          'datalab/style!/nbextensions/gcpdatalab/charting.css'],\n",
       "        function(charts, dom, events) {\n",
       "          charts.render('gcharts', dom, events, 'table', [], {\"rows\": [{\"c\": [{\"v\": 1}, {\"v\": 8386932}]}, {\"c\": [{\"v\": 2}, {\"v\": 11926951}]}, {\"c\": [{\"v\": 3}, {\"v\": 13139372}]}, {\"c\": [{\"v\": 4}, {\"v\": 12926511}]}, {\"c\": [{\"v\": 5}, {\"v\": 12867449}]}, {\"c\": [{\"v\": 6}, {\"v\": 12742220}]}, {\"c\": [{\"v\": 7}, {\"v\": 9292002}]}], \"cols\": [{\"type\": \"number\", \"id\": \"wday\", \"label\": \"wday\"}, {\"type\": \"number\", \"id\": \"c\", \"label\": \"c\"}]},\n",
       "            {\n",
       "              pageSize: 25,\n",
       "              cssClassNames:  {\n",
       "                tableRow: 'gchart-table-row',\n",
       "                headerRow: 'gchart-table-headerrow',\n",
       "                oddTableRow: 'gchart-table-oddrow',\n",
       "                selectedTableRow: 'gchart-table-selectedrow',\n",
       "                hoverTableRow: 'gchart-table-hoverrow',\n",
       "                tableCell: 'gchart-table-cell',\n",
       "                headerCell: 'gchart-table-headercell',\n",
       "                rowNumberCell: 'gchart-table-rownumcell'\n",
       "              }\n",
       "            },\n",
       "            {source_index: 1, fields: 'wday,c'},\n",
       "            0,\n",
       "            7);\n",
       "        }\n",
       "      );\n",
       "    </script>\n",
       "  "
      ],
      "text/plain": [
       "QueryResultsTable job_Z74oeSMUB5k3YNLqTLgBxIz2DAB4"
      ]
     },
     "execution_count": 4,
     "metadata": {},
     "output_type": "execute_result"
    }
   ],
   "source": [
    "%%bq query\n",
    "SELECT wday, SUM(record_weight) c\n",
    "FROM `publicdata.samples.natality`\n",
    "GROUP BY wday\n",
    "HAVING wday > 0\n",
    "ORDER BY wday"
   ]
  },
  {
   "cell_type": "markdown",
   "metadata": {},
   "source": [
    "## Charting the result"
   ]
  },
  {
   "cell_type": "code",
   "execution_count": 5,
   "metadata": {},
   "outputs": [
    {
     "data": {
      "text/html": [
       "\n",
       "    <div class=\"bqgc-container\">\n",
       "      \n",
       "      <div class=\"bqgc \" id=\"1_154703250700\">\n",
       "      </div>\n",
       "    </div>\n",
       "    <script src=\"/static/components/requirejs/require.js\"></script>\n",
       "    <script>\n",
       "\n",
       "      require.config({\n",
       "        paths: {\n",
       "          base: '/static/base',\n",
       "          d3: '//cdnjs.cloudflare.com/ajax/libs/d3/3.4.13/d3',\n",
       "          plotly: 'https://cdn.plot.ly/plotly-1.5.1.min.js?noext',\n",
       "          jquery: '//ajax.googleapis.com/ajax/libs/jquery/2.0.0/jquery.min'\n",
       "        },\n",
       "        map: {\n",
       "          '*': {\n",
       "            datalab: 'nbextensions/gcpdatalab'\n",
       "          }\n",
       "        },\n",
       "        shim: {\n",
       "          plotly: {\n",
       "            deps: ['d3', 'jquery'],\n",
       "            exports: 'plotly'\n",
       "          }\n",
       "        }\n",
       "      });\n",
       "\n",
       "      require(['datalab/charting',\n",
       "               'datalab/element!1_154703250700',\n",
       "               'base/js/events',\n",
       "               'datalab/style!/nbextensions/gcpdatalab/charting.css'\n",
       "              ],\n",
       "        function(charts, dom, events) {\n",
       "          charts.render(\n",
       "              'gcharts',\n",
       "              dom,\n",
       "              events,\n",
       "              'columns',\n",
       "              [],\n",
       "              {\"rows\": [{\"c\": [{\"v\": 1}, {\"v\": 8386932}]}, {\"c\": [{\"v\": 2}, {\"v\": 11926951}]}, {\"c\": [{\"v\": 3}, {\"v\": 13139372}]}, {\"c\": [{\"v\": 4}, {\"v\": 12926511}]}, {\"c\": [{\"v\": 5}, {\"v\": 12867449}]}, {\"c\": [{\"v\": 6}, {\"v\": 12742220}]}, {\"c\": [{\"v\": 7}, {\"v\": 9292002}]}], \"cols\": [{\"type\": \"number\", \"id\": \"wday\", \"label\": \"wday\"}, {\"type\": \"number\", \"id\": \"c\", \"label\": \"c\"}]},\n",
       "              {},\n",
       "              {\"fields\": \"wday,c\", \"source_index\": 0, \"name\": 0},\n",
       "              0,\n",
       "              7);\n",
       "          }\n",
       "        );\n",
       "    </script>\n",
       "  "
      ],
      "text/plain": [
       "<IPython.core.display.HTML object>"
      ]
     },
     "execution_count": 5,
     "metadata": {},
     "output_type": "execute_result"
    },
    {
     "data": {
      "image/png": "[encoded data removed]"
     },
     "metadata": {
      "source_id": "1_154703250700"
     },
     "output_type": "display_data"
    }
   ],
   "source": [
    "%chart columns --data natality --fields wday,c"
   ]
  },
  {
   "cell_type": "markdown",
   "metadata": {},
   "source": [
    "## Let's delete and create a dataset to save the model"
   ]
  },
  {
   "cell_type": "code",
   "execution_count": 6,
   "metadata": {},
   "outputs": [
    {
     "name": "stdout",
     "output_type": "stream",
     "text": [
      "Failed to delete dataset bqml: Cannot delete non-existent dataset funwithcloud.bqml\n"
     ]
    }
   ],
   "source": [
    "%%bq datasets delete -n bqml"
   ]
  },
  {
   "cell_type": "code",
   "execution_count": 7,
   "metadata": {},
   "outputs": [],
   "source": [
    "%bq datasets create -n bqml"
   ]
  },
  {
   "cell_type": "markdown",
   "metadata": {},
   "source": [
    "## Create the model"
   ]
  },
  {
   "cell_type": "markdown",
   "metadata": {},
   "source": [
    "A model in BigQuery ML represents what an ML system has learned from the training data.\n",
    "\n",
    "The following types of models are supported by BigQuery ML:\n",
    "\n",
    "Linear regression for forecasting — for example, the sales of an item on a given day. Labels are real-valued (they cannot be +/- infinity or NaN).\n",
    "Binary logistic regression for classification — for example, determining whether a customer will make a purchase. Labels must only have two possible values.\n",
    "Multiclass logistic regression for classification — These models can be used to predict multiple possible values such as whether an input is \"low-value\", \"medium-value\", or \"high-value\". Labels can have up to 50 unique values. In BigQuery ML, multiclass logistic regression training uses a multinomial classifier with a cross entropy loss function.\n",
    "In BigQuery ML, a model can be used with data from multiple BigQuery datasets for training and for prediction.\n",
    "\n",
    "When you create a model, categorical variables (of type BOOL, STRING, BYTES, DATE, DATETIME, or TIME) are one-hot encoded by default during training and prediction.\n",
    "\n",
    "TIMESTAMP is not currently one-hot encoded by default. Use the CAST function to cast TIMESTAMP columns to STRING so that BigQuery ML treats the column as categorical.\n",
    "\n",
    "For one-hot encoded features, each column value is an array of structs in the following format: [<String_Value, Weight>]. The length of the array is the cardinality (number of values) of that feature. A feature is an input variable used to make a prediction.\n",
    "\n",
    "Numerical variables (of type NUMERIC, FLOAT64 or INT64) are standardized by default. In addition, standardization is automatically applied during prediction."
   ]
  },
  {
   "cell_type": "code",
   "execution_count": 8,
   "metadata": {},
   "outputs": [
    {
     "data": {
      "text/html": [
       "Done"
      ],
      "text/plain": [
       "QueryResultsTable job_L1ZZ937Pww-PnBj22Wvf22e0UTNH"
      ]
     },
     "execution_count": 8,
     "metadata": {},
     "output_type": "execute_result"
    }
   ],
   "source": [
    "%%bq query\n",
    "#standardSQL\n",
    "CREATE MODEL `bqml.natality_model`\n",
    "OPTIONS\n",
    "  (model_type='linear_reg',\n",
    "    input_label_cols=['weight_pounds']) AS\n",
    "SELECT\n",
    "  weight_pounds,\n",
    "  is_male,\n",
    "  gestation_weeks,\n",
    "  mother_age,\n",
    "  CAST(mother_race AS string) AS mother_race\n",
    "FROM\n",
    "  `publicdata.samples.natality`\n",
    "WHERE\n",
    "  weight_pounds IS NOT NULL\n",
    "  AND RAND() < 0.001"
   ]
  },
  {
   "cell_type": "markdown",
   "metadata": {},
   "source": [
    "## Evaluate the Model"
   ]
  },
  {
   "cell_type": "code",
   "execution_count": 9,
   "metadata": {},
   "outputs": [
    {
     "data": {
      "text/html": [
       "\n",
       "    <div class=\"bqtv\" id=\"3_154703488819\"><table><tr><th>mean_absolute_error</th><th>mean_squared_error</th><th>mean_squared_log_error</th><th>median_absolute_error</th><th>r2_score</th><th>explained_variance</th></tr><tr><td>0.95627043831</td><td>1.67565457031</td><td>0.034263170549</td><td>0.737791556289</td><td>0.046495163128</td><td>0.0464953611266</td></tr></table></div>\n",
       "    <br />(rows: 1, time: 5.5s,     4GB processed, job: job_t9Vgm8twUfTNVr2tyGtGZL2XSuQj)<br />\n",
       "    <script src=\"/static/components/requirejs/require.js\"></script>\n",
       "    <script>\n",
       "      require.config({\n",
       "        paths: {\n",
       "          base: '/static/base',\n",
       "          d3: '//cdnjs.cloudflare.com/ajax/libs/d3/3.4.13/d3',\n",
       "          plotly: 'https://cdn.plot.ly/plotly-1.5.1.min.js?noext',\n",
       "          jquery: '//ajax.googleapis.com/ajax/libs/jquery/2.0.0/jquery.min'\n",
       "        },\n",
       "        map: {\n",
       "          '*': {\n",
       "            datalab: 'nbextensions/gcpdatalab'\n",
       "          }\n",
       "        },\n",
       "        shim: {\n",
       "          plotly: {\n",
       "            deps: ['d3', 'jquery'],\n",
       "            exports: 'plotly'\n",
       "          }\n",
       "        }\n",
       "      });\n",
       "\n",
       "      require(['datalab/charting', 'datalab/element!3_154703488819', 'base/js/events',\n",
       "          'datalab/style!/nbextensions/gcpdatalab/charting.css'],\n",
       "        function(charts, dom, events) {\n",
       "          charts.render('gcharts', dom, events, 'table', [], {\"rows\": [{\"c\": [{\"v\": 0.9562704383102266}, {\"v\": 1.675654570307279}, {\"v\": 0.03426317054896433}, {\"v\": 0.7377915562886956}, {\"v\": 0.04649516312799751}, {\"v\": 0.04649536112655417}]}], \"cols\": [{\"type\": \"number\", \"id\": \"mean_absolute_error\", \"label\": \"mean_absolute_error\"}, {\"type\": \"number\", \"id\": \"mean_squared_error\", \"label\": \"mean_squared_error\"}, {\"type\": \"number\", \"id\": \"mean_squared_log_error\", \"label\": \"mean_squared_log_error\"}, {\"type\": \"number\", \"id\": \"median_absolute_error\", \"label\": \"median_absolute_error\"}, {\"type\": \"number\", \"id\": \"r2_score\", \"label\": \"r2_score\"}, {\"type\": \"number\", \"id\": \"explained_variance\", \"label\": \"explained_variance\"}]},\n",
       "            {\n",
       "              pageSize: 25,\n",
       "              cssClassNames:  {\n",
       "                tableRow: 'gchart-table-row',\n",
       "                headerRow: 'gchart-table-headerrow',\n",
       "                oddTableRow: 'gchart-table-oddrow',\n",
       "                selectedTableRow: 'gchart-table-selectedrow',\n",
       "                hoverTableRow: 'gchart-table-hoverrow',\n",
       "                tableCell: 'gchart-table-cell',\n",
       "                headerCell: 'gchart-table-headercell',\n",
       "                rowNumberCell: 'gchart-table-rownumcell'\n",
       "              }\n",
       "            },\n",
       "            {source_index: 2, fields: 'mean_absolute_error,mean_squared_error,mean_squared_log_error,median_absolute_error,r2_score,explained_variance'},\n",
       "            0,\n",
       "            1);\n",
       "        }\n",
       "      );\n",
       "    </script>\n",
       "  "
      ],
      "text/plain": [
       "QueryResultsTable job_t9Vgm8twUfTNVr2tyGtGZL2XSuQj"
      ]
     },
     "execution_count": 9,
     "metadata": {},
     "output_type": "execute_result"
    }
   ],
   "source": [
    "%%bq query\n",
    "#standardSQL\n",
    "SELECT\n",
    "  *\n",
    "FROM\n",
    "  ML.EVALUATE(MODEL `bqml.natality_model`,\n",
    "    (\n",
    "    SELECT\n",
    "      weight_pounds,\n",
    "      is_male,\n",
    "      gestation_weeks,\n",
    "      mother_age,\n",
    "      CAST(mother_race AS STRING) AS mother_race\n",
    "    FROM\n",
    "      `bigquery-public-data.samples.natality`\n",
    "    WHERE\n",
    "      weight_pounds IS NOT NULL))"
   ]
  },
  {
   "cell_type": "markdown",
   "metadata": {},
   "source": [
    "## Use the Model"
   ]
  },
  {
   "cell_type": "code",
   "execution_count": 10,
   "metadata": {},
   "outputs": [
    {
     "data": {
      "text/html": [
       "\n",
       "    <div class=\"bqtv\" id=\"4_154703492609\"><table><tr><th>predicted_weight_pounds</th></tr><tr><td>7.74399294439</td></tr><tr><td>7.7003608276</td></tr><tr><td>7.3315079601</td></tr><tr><td>7.40661545341</td></tr><tr><td>7.76617017807</td></tr><tr><td>7.42235314167</td></tr><tr><td>7.42378244038</td></tr><tr><td>7.40017590798</td></tr><tr><td>7.64885986669</td></tr><tr><td>7.53823415435</td></tr><tr><td>7.31434097313</td></tr><tr><td>7.71895711328</td></tr><tr><td>7.33007866139</td></tr><tr><td>7.6989315289</td></tr><tr><td>7.51939281505</td></tr><tr><td>7.31935121984</td></tr><tr><td>7.40661545341</td></tr><tr><td>7.32864936268</td></tr><tr><td>7.31005307701</td></tr><tr><td>7.66745615237</td></tr><tr><td>7.65958730824</td></tr><tr><td>7.20267195722</td></tr><tr><td>7.02893875411</td></tr><tr><td>7.5239257648</td></tr><tr><td>7.99295276168</td></tr></table></div>\n",
       "    <br />(rows: 218735, time: 2.0s,     3GB processed, job: job_81B-GXh5ZsgC_kHzupsBo7RQMDU4)<br />\n",
       "    <script src=\"/static/components/requirejs/require.js\"></script>\n",
       "    <script>\n",
       "      require.config({\n",
       "        paths: {\n",
       "          base: '/static/base',\n",
       "          d3: '//cdnjs.cloudflare.com/ajax/libs/d3/3.4.13/d3',\n",
       "          plotly: 'https://cdn.plot.ly/plotly-1.5.1.min.js?noext',\n",
       "          jquery: '//ajax.googleapis.com/ajax/libs/jquery/2.0.0/jquery.min'\n",
       "        },\n",
       "        map: {\n",
       "          '*': {\n",
       "            datalab: 'nbextensions/gcpdatalab'\n",
       "          }\n",
       "        },\n",
       "        shim: {\n",
       "          plotly: {\n",
       "            deps: ['d3', 'jquery'],\n",
       "            exports: 'plotly'\n",
       "          }\n",
       "        }\n",
       "      });\n",
       "\n",
       "      require(['datalab/charting', 'datalab/element!4_154703492609', 'base/js/events',\n",
       "          'datalab/style!/nbextensions/gcpdatalab/charting.css'],\n",
       "        function(charts, dom, events) {\n",
       "          charts.render('gcharts', dom, events, 'paged_table', [], {\"rows\": [{\"c\": [{\"v\": 7.743992944386264}]}, {\"c\": [{\"v\": 7.700360827602708}]}, {\"c\": [{\"v\": 7.331507960097952}]}, {\"c\": [{\"v\": 7.406615453408449}]}, {\"c\": [{\"v\": 7.76617017807439}]}, {\"c\": [{\"v\": 7.42235314167192}]}, {\"c\": [{\"v\": 7.423782440382638}]}, {\"c\": [{\"v\": 7.400175907983794}]}, {\"c\": [{\"v\": 7.648859866687417}]}, {\"c\": [{\"v\": 7.538234154351812}]}, {\"c\": [{\"v\": 7.3143409731274005}]}, {\"c\": [{\"v\": 7.718957113280339}]}, {\"c\": [{\"v\": 7.330078661390871}]}, {\"c\": [{\"v\": 7.698931528895628}]}, {\"c\": [{\"v\": 7.519392815051106}]}, {\"c\": [{\"v\": 7.319351219844975}]}, {\"c\": [{\"v\": 7.406615453408449}]}, {\"c\": [{\"v\": 7.328649362683791}]}, {\"c\": [{\"v\": 7.31005307700616}]}, {\"c\": [{\"v\": 7.667456152368686}]}, {\"c\": [{\"v\": 7.659587308236951}]}, {\"c\": [{\"v\": 7.202671957220446}]}, {\"c\": [{\"v\": 7.02893875411246}]}, {\"c\": [{\"v\": 7.523925764795422}]}, {\"c\": [{\"v\": 7.992952761676861}]}], \"cols\": [{\"type\": \"number\", \"id\": \"predicted_weight_pounds\", \"label\": \"predicted_weight_pounds\"}]},\n",
       "            {\n",
       "              pageSize: 25,\n",
       "              cssClassNames:  {\n",
       "                tableRow: 'gchart-table-row',\n",
       "                headerRow: 'gchart-table-headerrow',\n",
       "                oddTableRow: 'gchart-table-oddrow',\n",
       "                selectedTableRow: 'gchart-table-selectedrow',\n",
       "                hoverTableRow: 'gchart-table-hoverrow',\n",
       "                tableCell: 'gchart-table-cell',\n",
       "                headerCell: 'gchart-table-headercell',\n",
       "                rowNumberCell: 'gchart-table-rownumcell'\n",
       "              }\n",
       "            },\n",
       "            {source_index: 3, fields: 'predicted_weight_pounds'},\n",
       "            0,\n",
       "            218735);\n",
       "        }\n",
       "      );\n",
       "    </script>\n",
       "  "
      ],
      "text/plain": [
       "QueryResultsTable job_81B-GXh5ZsgC_kHzupsBo7RQMDU4"
      ]
     },
     "execution_count": 10,
     "metadata": {},
     "output_type": "execute_result"
    }
   ],
   "source": [
    "%%bq query \n",
    "#standardSQL\n",
    "SELECT\n",
    "  predicted_weight_pounds\n",
    "FROM\n",
    "  ML.PREDICT(MODEL `bqml.natality_model`,\n",
    "    (\n",
    "    SELECT\n",
    "      is_male,\n",
    "      gestation_weeks,\n",
    "      mother_age,\n",
    "      CAST(mother_race AS STRING) AS mother_race\n",
    "    FROM\n",
    "      `bigquery-public-data.samples.natality`\n",
    "    WHERE\n",
    "      state = \"WY\"))"
   ]
  },
  {
   "cell_type": "code",
   "execution_count": null,
   "metadata": {},
   "outputs": [],
   "source": []
  }
 ],
 "metadata": {
  "kernelspec": {
   "display_name": "Python 2",
   "language": "python",
   "name": "python2"
  },
  "language_info": {
   "codemirror_mode": {
    "name": "ipython",
    "version": 2
   },
   "file_extension": ".py",
   "mimetype": "text/x-python",
   "name": "python",
   "nbconvert_exporter": "python",
   "pygments_lexer": "ipython2",
   "version": "2.7.15"
  }
 },
 "nbformat": 4,
 "nbformat_minor": 1
}
