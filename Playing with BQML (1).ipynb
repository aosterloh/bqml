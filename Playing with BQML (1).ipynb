{
 "cells": [
  {
   "cell_type": "markdown",
   "metadata": {},
   "source": [
    "# Playing with BigQuery ML\n",
    "This tutorial introduces data analysts to BigQuery ML. BigQuery ML enables users to create and execute machine learning models in BigQuery using SQL queries. The goal is to democratize machine learning by enabling SQL practitioners to build models using their existing tools and to increase development speed by eliminating the need for data movement.\n",
    "\n",
    "In this tutorial, you use the natality sample table to create a model that predicts the birth weight of a child based on the baby’s gender, the length of the pregnancy, and demographic information about the mother. The natality sample table contains information about every birth in the United States over a 40 year period."
   ]
  },
  {
   "cell_type": "markdown",
   "metadata": {},
   "source": [
    "## Sampling the natality dataset"
   ]
  },
  {
   "cell_type": "code",
   "execution_count": 1,
   "metadata": {},
   "outputs": [
    {
     "data": {
      "text/html": [
       "\n",
       "    <div class=\"bqtv\" id=\"1_154142572000\"><table><tr><th>source_year</th><th>year</th><th>month</th><th>day</th><th>wday</th><th>state</th><th>is_male</th><th>child_race</th><th>weight_pounds</th><th>plurality</th><th>apgar_1min</th><th>apgar_5min</th><th>mother_residence_state</th><th>mother_race</th><th>mother_age</th><th>gestation_weeks</th><th>lmp</th><th>mother_married</th><th>mother_birth_state</th><th>cigarette_use</th><th>cigarettes_per_day</th><th>alcohol_use</th><th>drinks_per_week</th><th>weight_gain_pounds</th><th>born_alive_alive</th><th>born_alive_dead</th><th>born_dead</th><th>ever_born</th><th>father_race</th><th>father_age</th><th>record_weight</th></tr><tr><td>1970</td><td>1970</td><td>5</td><td>12</td><td>&nbsp;</td><td>CA</td><td>False</td><td>1</td><td>8.06230492134</td><td>&nbsp;</td><td>&nbsp;</td><td>&nbsp;</td><td>CA</td><td>1</td><td>27</td><td>39</td><td>08071999</td><td>&nbsp;</td><td>PR</td><td>&nbsp;</td><td>&nbsp;</td><td>&nbsp;</td><td>&nbsp;</td><td>&nbsp;</td><td>1</td><td>0</td><td>0</td><td>2</td><td>1</td><td>27</td><td>2</td></tr><tr><td>1970</td><td>1970</td><td>3</td><td>16</td><td>&nbsp;</td><td>OH</td><td>False</td><td>1</td><td>6.6248909731</td><td>&nbsp;</td><td>&nbsp;</td><td>&nbsp;</td><td>OH</td><td>1</td><td>26</td><td>41</td><td>06011999</td><td>&nbsp;</td><td>OH</td><td>&nbsp;</td><td>&nbsp;</td><td>&nbsp;</td><td>&nbsp;</td><td>&nbsp;</td><td>1</td><td>0</td><td>1</td><td>3</td><td>1</td><td>28</td><td>2</td></tr><tr><td>1969</td><td>1969</td><td>2</td><td>17</td><td>&nbsp;</td><td>NY</td><td>False</td><td>2</td><td>6.12444163836</td><td>&nbsp;</td><td>&nbsp;</td><td>&nbsp;</td><td>NY</td><td>2</td><td>25</td><td>40</td><td>05111998</td><td>&nbsp;</td><td></td><td>&nbsp;</td><td>&nbsp;</td><td>&nbsp;</td><td>&nbsp;</td><td>&nbsp;</td><td>0</td><td>0</td><td>0</td><td>1</td><td>2</td><td>28</td><td>2</td></tr><tr><td>1970</td><td>1970</td><td>8</td><td>25</td><td>&nbsp;</td><td>TX</td><td>True</td><td>1</td><td>9.06320359082</td><td>&nbsp;</td><td>&nbsp;</td><td>&nbsp;</td><td>TX</td><td>1</td><td>29</td><td>&nbsp;</td><td>88881908</td><td>True</td><td>PR</td><td>&nbsp;</td><td>&nbsp;</td><td>&nbsp;</td><td>&nbsp;</td><td>&nbsp;</td><td>0</td><td>0</td><td>0</td><td>1</td><td>1</td><td>26</td><td>2</td></tr><tr><td>1970</td><td>1970</td><td>2</td><td>25</td><td>&nbsp;</td><td>NC</td><td>True</td><td>2</td><td>7.50012615324</td><td>&nbsp;</td><td>&nbsp;</td><td>&nbsp;</td><td>NC</td><td>2</td><td>36</td><td>40</td><td>05151999</td><td>True</td><td>NC</td><td>&nbsp;</td><td>&nbsp;</td><td>&nbsp;</td><td>&nbsp;</td><td>&nbsp;</td><td>4</td><td>55</td><td>1</td><td>6</td><td>2</td><td>35</td><td>2</td></tr></table></div>\n",
       "    <br />(rows: 5, time: 0.2s, cached, job: job_onJJeKYtCxGx_MUTq5sKIH9N5lYP)<br />\n",
       "    <script src=\"/static/components/requirejs/require.js\"></script>\n",
       "    <script>\n",
       "      require.config({\n",
       "        paths: {\n",
       "          base: '/static/base',\n",
       "          d3: '//cdnjs.cloudflare.com/ajax/libs/d3/3.4.13/d3',\n",
       "          plotly: 'https://cdn.plot.ly/plotly-1.5.1.min.js?noext',\n",
       "          jquery: '//ajax.googleapis.com/ajax/libs/jquery/2.0.0/jquery.min'\n",
       "        },\n",
       "        map: {\n",
       "          '*': {\n",
       "            datalab: 'nbextensions/gcpdatalab'\n",
       "          }\n",
       "        },\n",
       "        shim: {\n",
       "          plotly: {\n",
       "            deps: ['d3', 'jquery'],\n",
       "            exports: 'plotly'\n",
       "          }\n",
       "        }\n",
       "      });\n",
       "\n",
       "      require(['datalab/charting', 'datalab/element!1_154142572000', 'base/js/events',\n",
       "          'datalab/style!/nbextensions/gcpdatalab/charting.css'],\n",
       "        function(charts, dom, events) {\n",
       "          charts.render('gcharts', dom, events, 'table', [], {\"rows\": [{\"c\": [{\"v\": 1970}, {\"v\": 1970}, {\"v\": 5}, {\"v\": 12}, {\"v\": null}, {\"v\": \"CA\"}, {\"v\": false}, {\"v\": 1}, {\"v\": 8.062304921339999}, {\"v\": null}, {\"v\": null}, {\"v\": null}, {\"v\": \"CA\"}, {\"v\": 1}, {\"v\": 27}, {\"v\": 39}, {\"v\": \"08071999\"}, {\"v\": null}, {\"v\": \"PR\"}, {\"v\": null}, {\"v\": null}, {\"v\": null}, {\"v\": null}, {\"v\": null}, {\"v\": 1}, {\"v\": 0}, {\"v\": 0}, {\"v\": 2}, {\"v\": 1}, {\"v\": 27}, {\"v\": 2}]}, {\"c\": [{\"v\": 1970}, {\"v\": 1970}, {\"v\": 3}, {\"v\": 16}, {\"v\": null}, {\"v\": \"OH\"}, {\"v\": false}, {\"v\": 1}, {\"v\": 6.6248909731}, {\"v\": null}, {\"v\": null}, {\"v\": null}, {\"v\": \"OH\"}, {\"v\": 1}, {\"v\": 26}, {\"v\": 41}, {\"v\": \"06011999\"}, {\"v\": null}, {\"v\": \"OH\"}, {\"v\": null}, {\"v\": null}, {\"v\": null}, {\"v\": null}, {\"v\": null}, {\"v\": 1}, {\"v\": 0}, {\"v\": 1}, {\"v\": 3}, {\"v\": 1}, {\"v\": 28}, {\"v\": 2}]}, {\"c\": [{\"v\": 1969}, {\"v\": 1969}, {\"v\": 2}, {\"v\": 17}, {\"v\": null}, {\"v\": \"NY\"}, {\"v\": false}, {\"v\": 2}, {\"v\": 6.1244416383599996}, {\"v\": null}, {\"v\": null}, {\"v\": null}, {\"v\": \"NY\"}, {\"v\": 2}, {\"v\": 25}, {\"v\": 40}, {\"v\": \"05111998\"}, {\"v\": null}, {\"v\": \"\"}, {\"v\": null}, {\"v\": null}, {\"v\": null}, {\"v\": null}, {\"v\": null}, {\"v\": 0}, {\"v\": 0}, {\"v\": 0}, {\"v\": 1}, {\"v\": 2}, {\"v\": 28}, {\"v\": 2}]}, {\"c\": [{\"v\": 1970}, {\"v\": 1970}, {\"v\": 8}, {\"v\": 25}, {\"v\": null}, {\"v\": \"TX\"}, {\"v\": true}, {\"v\": 1}, {\"v\": 9.06320359082}, {\"v\": null}, {\"v\": null}, {\"v\": null}, {\"v\": \"TX\"}, {\"v\": 1}, {\"v\": 29}, {\"v\": null}, {\"v\": \"88881908\"}, {\"v\": true}, {\"v\": \"PR\"}, {\"v\": null}, {\"v\": null}, {\"v\": null}, {\"v\": null}, {\"v\": null}, {\"v\": 0}, {\"v\": 0}, {\"v\": 0}, {\"v\": 1}, {\"v\": 1}, {\"v\": 26}, {\"v\": 2}]}, {\"c\": [{\"v\": 1970}, {\"v\": 1970}, {\"v\": 2}, {\"v\": 25}, {\"v\": null}, {\"v\": \"NC\"}, {\"v\": true}, {\"v\": 2}, {\"v\": 7.50012615324}, {\"v\": null}, {\"v\": null}, {\"v\": null}, {\"v\": \"NC\"}, {\"v\": 2}, {\"v\": 36}, {\"v\": 40}, {\"v\": \"05151999\"}, {\"v\": true}, {\"v\": \"NC\"}, {\"v\": null}, {\"v\": null}, {\"v\": null}, {\"v\": null}, {\"v\": null}, {\"v\": 4}, {\"v\": 55}, {\"v\": 1}, {\"v\": 6}, {\"v\": 2}, {\"v\": 35}, {\"v\": 2}]}], \"cols\": [{\"type\": \"number\", \"id\": \"source_year\", \"label\": \"source_year\"}, {\"type\": \"number\", \"id\": \"year\", \"label\": \"year\"}, {\"type\": \"number\", \"id\": \"month\", \"label\": \"month\"}, {\"type\": \"number\", \"id\": \"day\", \"label\": \"day\"}, {\"type\": \"number\", \"id\": \"wday\", \"label\": \"wday\"}, {\"type\": \"string\", \"id\": \"state\", \"label\": \"state\"}, {\"type\": \"boolean\", \"id\": \"is_male\", \"label\": \"is_male\"}, {\"type\": \"number\", \"id\": \"child_race\", \"label\": \"child_race\"}, {\"type\": \"number\", \"id\": \"weight_pounds\", \"label\": \"weight_pounds\"}, {\"type\": \"number\", \"id\": \"plurality\", \"label\": \"plurality\"}, {\"type\": \"number\", \"id\": \"apgar_1min\", \"label\": \"apgar_1min\"}, {\"type\": \"number\", \"id\": \"apgar_5min\", \"label\": \"apgar_5min\"}, {\"type\": \"string\", \"id\": \"mother_residence_state\", \"label\": \"mother_residence_state\"}, {\"type\": \"number\", \"id\": \"mother_race\", \"label\": \"mother_race\"}, {\"type\": \"number\", \"id\": \"mother_age\", \"label\": \"mother_age\"}, {\"type\": \"number\", \"id\": \"gestation_weeks\", \"label\": \"gestation_weeks\"}, {\"type\": \"string\", \"id\": \"lmp\", \"label\": \"lmp\"}, {\"type\": \"boolean\", \"id\": \"mother_married\", \"label\": \"mother_married\"}, {\"type\": \"string\", \"id\": \"mother_birth_state\", \"label\": \"mother_birth_state\"}, {\"type\": \"boolean\", \"id\": \"cigarette_use\", \"label\": \"cigarette_use\"}, {\"type\": \"number\", \"id\": \"cigarettes_per_day\", \"label\": \"cigarettes_per_day\"}, {\"type\": \"boolean\", \"id\": \"alcohol_use\", \"label\": \"alcohol_use\"}, {\"type\": \"number\", \"id\": \"drinks_per_week\", \"label\": \"drinks_per_week\"}, {\"type\": \"number\", \"id\": \"weight_gain_pounds\", \"label\": \"weight_gain_pounds\"}, {\"type\": \"number\", \"id\": \"born_alive_alive\", \"label\": \"born_alive_alive\"}, {\"type\": \"number\", \"id\": \"born_alive_dead\", \"label\": \"born_alive_dead\"}, {\"type\": \"number\", \"id\": \"born_dead\", \"label\": \"born_dead\"}, {\"type\": \"number\", \"id\": \"ever_born\", \"label\": \"ever_born\"}, {\"type\": \"number\", \"id\": \"father_race\", \"label\": \"father_race\"}, {\"type\": \"number\", \"id\": \"father_age\", \"label\": \"father_age\"}, {\"type\": \"number\", \"id\": \"record_weight\", \"label\": \"record_weight\"}]},\n",
       "            {\n",
       "              pageSize: 25,\n",
       "              cssClassNames:  {\n",
       "                tableRow: 'gchart-table-row',\n",
       "                headerRow: 'gchart-table-headerrow',\n",
       "                oddTableRow: 'gchart-table-oddrow',\n",
       "                selectedTableRow: 'gchart-table-selectedrow',\n",
       "                hoverTableRow: 'gchart-table-hoverrow',\n",
       "                tableCell: 'gchart-table-cell',\n",
       "                headerCell: 'gchart-table-headercell',\n",
       "                rowNumberCell: 'gchart-table-rownumcell'\n",
       "              }\n",
       "            },\n",
       "            {source_index: 0, fields: 'source_year,year,month,day,wday,state,is_male,child_race,weight_pounds,plurality,apgar_1min,apgar_5min,mother_residence_state,mother_race,mother_age,gestation_weeks,lmp,mother_married,mother_birth_state,cigarette_use,cigarettes_per_day,alcohol_use,drinks_per_week,weight_gain_pounds,born_alive_alive,born_alive_dead,born_dead,ever_born,father_race,father_age,record_weight'},\n",
       "            0,\n",
       "            5);\n",
       "        }\n",
       "      );\n",
       "    </script>\n",
       "  "
      ],
      "text/plain": [
       "QueryResultsTable job_onJJeKYtCxGx_MUTq5sKIH9N5lYP"
      ]
     },
     "execution_count": 1,
     "metadata": {},
     "output_type": "execute_result"
    }
   ],
   "source": [
    "%%bq sample --table publicdata.samples.natality --count 5"
   ]
  },
  {
   "cell_type": "markdown",
   "metadata": {},
   "source": [
    "## Saving the query"
   ]
  },
  {
   "cell_type": "code",
   "execution_count": 7,
   "metadata": {},
   "outputs": [],
   "source": [
    "%%bq query --name natality \n",
    "SELECT wday, SUM(record_weight) c\n",
    "FROM `publicdata.samples.natality`\n",
    "GROUP BY wday\n",
    "HAVING wday > 0\n",
    "ORDER BY wday"
   ]
  },
  {
   "cell_type": "markdown",
   "metadata": {},
   "source": [
    "## Running the query"
   ]
  },
  {
   "cell_type": "code",
   "execution_count": 5,
   "metadata": {},
   "outputs": [
    {
     "data": {
      "text/html": [
       "\n",
       "    <div class=\"bqtv\" id=\"2_154142586887\"><table><tr><th>wday</th><th>c</th></tr><tr><td>1</td><td>8386932</td></tr><tr><td>2</td><td>11926951</td></tr><tr><td>3</td><td>13139372</td></tr><tr><td>4</td><td>12926511</td></tr><tr><td>5</td><td>12867449</td></tr><tr><td>6</td><td>12742220</td></tr><tr><td>7</td><td>9292002</td></tr></table></div>\n",
       "    <br />(rows: 7, time: 0.2s, cached, job: job_qtAIV32ZLKqHlEDIsTOuJLNcb0jO)<br />\n",
       "    <script src=\"/static/components/requirejs/require.js\"></script>\n",
       "    <script>\n",
       "      require.config({\n",
       "        paths: {\n",
       "          base: '/static/base',\n",
       "          d3: '//cdnjs.cloudflare.com/ajax/libs/d3/3.4.13/d3',\n",
       "          plotly: 'https://cdn.plot.ly/plotly-1.5.1.min.js?noext',\n",
       "          jquery: '//ajax.googleapis.com/ajax/libs/jquery/2.0.0/jquery.min'\n",
       "        },\n",
       "        map: {\n",
       "          '*': {\n",
       "            datalab: 'nbextensions/gcpdatalab'\n",
       "          }\n",
       "        },\n",
       "        shim: {\n",
       "          plotly: {\n",
       "            deps: ['d3', 'jquery'],\n",
       "            exports: 'plotly'\n",
       "          }\n",
       "        }\n",
       "      });\n",
       "\n",
       "      require(['datalab/charting', 'datalab/element!2_154142586887', 'base/js/events',\n",
       "          'datalab/style!/nbextensions/gcpdatalab/charting.css'],\n",
       "        function(charts, dom, events) {\n",
       "          charts.render('gcharts', dom, events, 'table', [], {\"rows\": [{\"c\": [{\"v\": 1}, {\"v\": 8386932}]}, {\"c\": [{\"v\": 2}, {\"v\": 11926951}]}, {\"c\": [{\"v\": 3}, {\"v\": 13139372}]}, {\"c\": [{\"v\": 4}, {\"v\": 12926511}]}, {\"c\": [{\"v\": 5}, {\"v\": 12867449}]}, {\"c\": [{\"v\": 6}, {\"v\": 12742220}]}, {\"c\": [{\"v\": 7}, {\"v\": 9292002}]}], \"cols\": [{\"type\": \"number\", \"id\": \"wday\", \"label\": \"wday\"}, {\"type\": \"number\", \"id\": \"c\", \"label\": \"c\"}]},\n",
       "            {\n",
       "              pageSize: 25,\n",
       "              cssClassNames:  {\n",
       "                tableRow: 'gchart-table-row',\n",
       "                headerRow: 'gchart-table-headerrow',\n",
       "                oddTableRow: 'gchart-table-oddrow',\n",
       "                selectedTableRow: 'gchart-table-selectedrow',\n",
       "                hoverTableRow: 'gchart-table-hoverrow',\n",
       "                tableCell: 'gchart-table-cell',\n",
       "                headerCell: 'gchart-table-headercell',\n",
       "                rowNumberCell: 'gchart-table-rownumcell'\n",
       "              }\n",
       "            },\n",
       "            {source_index: 1, fields: 'wday,c'},\n",
       "            0,\n",
       "            7);\n",
       "        }\n",
       "      );\n",
       "    </script>\n",
       "  "
      ],
      "text/plain": [
       "QueryResultsTable job_qtAIV32ZLKqHlEDIsTOuJLNcb0jO"
      ]
     },
     "execution_count": 5,
     "metadata": {},
     "output_type": "execute_result"
    }
   ],
   "source": [
    "%%bq query\n",
    "SELECT wday, SUM(record_weight) c\n",
    "FROM `publicdata.samples.natality`\n",
    "GROUP BY wday\n",
    "HAVING wday > 0\n",
    "ORDER BY wday"
   ]
  },
  {
   "cell_type": "markdown",
   "metadata": {},
   "source": [
    "## Charting the result"
   ]
  },
  {
   "cell_type": "code",
   "execution_count": 8,
   "metadata": {},
   "outputs": [
    {
     "data": {
      "text/html": [
       "\n",
       "    <div class=\"bqgc-container\">\n",
       "      \n",
       "      <div class=\"bqgc \" id=\"2_154142588261\">\n",
       "      </div>\n",
       "    </div>\n",
       "    <script src=\"/static/components/requirejs/require.js\"></script>\n",
       "    <script>\n",
       "\n",
       "      require.config({\n",
       "        paths: {\n",
       "          base: '/static/base',\n",
       "          d3: '//cdnjs.cloudflare.com/ajax/libs/d3/3.4.13/d3',\n",
       "          plotly: 'https://cdn.plot.ly/plotly-1.5.1.min.js?noext',\n",
       "          jquery: '//ajax.googleapis.com/ajax/libs/jquery/2.0.0/jquery.min'\n",
       "        },\n",
       "        map: {\n",
       "          '*': {\n",
       "            datalab: 'nbextensions/gcpdatalab'\n",
       "          }\n",
       "        },\n",
       "        shim: {\n",
       "          plotly: {\n",
       "            deps: ['d3', 'jquery'],\n",
       "            exports: 'plotly'\n",
       "          }\n",
       "        }\n",
       "      });\n",
       "\n",
       "      require(['datalab/charting',\n",
       "               'datalab/element!2_154142588261',\n",
       "               'base/js/events',\n",
       "               'datalab/style!/nbextensions/gcpdatalab/charting.css'\n",
       "              ],\n",
       "        function(charts, dom, events) {\n",
       "          charts.render(\n",
       "              'gcharts',\n",
       "              dom,\n",
       "              events,\n",
       "              'columns',\n",
       "              [],\n",
       "              {\"rows\": [{\"c\": [{\"v\": 1}, {\"v\": 8386932}]}, {\"c\": [{\"v\": 2}, {\"v\": 11926951}]}, {\"c\": [{\"v\": 3}, {\"v\": 13139372}]}, {\"c\": [{\"v\": 4}, {\"v\": 12926511}]}, {\"c\": [{\"v\": 5}, {\"v\": 12867449}]}, {\"c\": [{\"v\": 6}, {\"v\": 12742220}]}, {\"c\": [{\"v\": 7}, {\"v\": 9292002}]}], \"cols\": [{\"type\": \"number\", \"id\": \"wday\", \"label\": \"wday\"}, {\"type\": \"number\", \"id\": \"c\", \"label\": \"c\"}]},\n",
       "              {},\n",
       "              {\"fields\": \"wday,c\", \"source_index\": 0, \"name\": 0},\n",
       "              0,\n",
       "              7);\n",
       "          }\n",
       "        );\n",
       "    </script>\n",
       "  "
      ],
      "text/plain": [
       "<IPython.core.display.HTML object>"
      ]
     },
     "execution_count": 8,
     "metadata": {},
     "output_type": "execute_result"
    },
    {
     "data": {
      "image/png": "[encoded data removed]"
     },
     "metadata": {
      "source_id": "2_154142588261"
     },
     "output_type": "display_data"
    }
   ],
   "source": [
    "%chart columns --data natality --fields wday,c"
   ]
  },
  {
   "cell_type": "markdown",
   "metadata": {},
   "source": [
    "## Let's delete and create a dataset to save the model"
   ]
  },
  {
   "cell_type": "code",
   "execution_count": 24,
   "metadata": {},
   "outputs": [
    {
     "name": "stdout",
     "output_type": "stream",
     "text": [
      "Failed to delete dataset bqml: Cannot delete non-existent dataset funwithcloud.bqml\n"
     ]
    }
   ],
   "source": [
    "%%bq datasets delete -n bqml"
   ]
  },
  {
   "cell_type": "code",
   "execution_count": 25,
   "metadata": {},
   "outputs": [],
   "source": [
    "%bq datasets create -n bqml"
   ]
  },
  {
   "cell_type": "markdown",
   "metadata": {},
   "source": [
    "## Create the model"
   ]
  },
  {
   "cell_type": "markdown",
   "metadata": {},
   "source": [
    "A model in BigQuery ML represents what an ML system has learned from the training data.\n",
    "\n",
    "The following types of models are supported by BigQuery ML:\n",
    "\n",
    "Linear regression for forecasting — for example, the sales of an item on a given day. Labels are real-valued (they cannot be +/- infinity or NaN).\n",
    "Binary logistic regression for classification — for example, determining whether a customer will make a purchase. Labels must only have two possible values.\n",
    "Multiclass logistic regression for classification — These models can be used to predict multiple possible values such as whether an input is \"low-value\", \"medium-value\", or \"high-value\". Labels can have up to 50 unique values. In BigQuery ML, multiclass logistic regression training uses a multinomial classifier with a cross entropy loss function.\n",
    "In BigQuery ML, a model can be used with data from multiple BigQuery datasets for training and for prediction.\n",
    "\n",
    "When you create a model, categorical variables (of type BOOL, STRING, BYTES, DATE, DATETIME, or TIME) are one-hot encoded by default during training and prediction.\n",
    "\n",
    "TIMESTAMP is not currently one-hot encoded by default. Use the CAST function to cast TIMESTAMP columns to STRING so that BigQuery ML treats the column as categorical.\n",
    "\n",
    "For one-hot encoded features, each column value is an array of structs in the following format: [<String_Value, Weight>]. The length of the array is the cardinality (number of values) of that feature. A feature is an input variable used to make a prediction.\n",
    "\n",
    "Numerical variables (of type NUMERIC, FLOAT64 or INT64) are standardized by default. In addition, standardization is automatically applied during prediction."
   ]
  },
  {
   "cell_type": "code",
   "execution_count": null,
   "metadata": {},
   "outputs": [],
   "source": [
    "%%bq query\n",
    "#standardSQL\n",
    "CREATE MODEL `bqml.natality_model`\n",
    "OPTIONS\n",
    "  (model_type='linear_reg',\n",
    "    input_label_cols=['weight_pounds']) AS\n",
    "SELECT\n",
    "  weight_pounds,\n",
    "  is_male,\n",
    "  gestation_weeks,\n",
    "  mother_age,\n",
    "  CAST(mother_race AS string) AS mother_race\n",
    "FROM\n",
    "  `publicdata.samples.natality`\n",
    "WHERE\n",
    "  weight_pounds IS NOT NULL\n",
    "  AND RAND() < 0.001"
   ]
  },
  {
   "cell_type": "markdown",
   "metadata": {},
   "source": [
    "## Evaluate the Model"
   ]
  },
  {
   "cell_type": "code",
   "execution_count": null,
   "metadata": {},
   "outputs": [],
   "source": [
    "%%bq query\n",
    "#standardSQL\n",
    "SELECT\n",
    "  *\n",
    "FROM\n",
    "  ML.EVALUATE(MODEL `bqml.natality_model`,\n",
    "    (\n",
    "    SELECT\n",
    "      weight_pounds,\n",
    "      is_male,\n",
    "      gestation_weeks,\n",
    "      mother_age,\n",
    "      CAST(mother_race AS STRING) AS mother_race\n",
    "    FROM\n",
    "      `bigquery-public-data.samples.natality`\n",
    "    WHERE\n",
    "      weight_pounds IS NOT NULL))"
   ]
  },
  {
   "cell_type": "markdown",
   "metadata": {},
   "source": [
    "## Use the Model"
   ]
  },
  {
   "cell_type": "code",
   "execution_count": null,
   "metadata": {},
   "outputs": [],
   "source": [
    "%%bq query \n",
    "#standardSQL\n",
    "SELECT\n",
    "  predicted_weight_pounds\n",
    "FROM\n",
    "  ML.PREDICT(MODEL `bqml.natality_model`,\n",
    "    (\n",
    "    SELECT\n",
    "      is_male,\n",
    "      gestation_weeks,\n",
    "      mother_age,\n",
    "      CAST(mother_race AS STRING) AS mother_race\n",
    "    FROM\n",
    "      `bigquery-public-data.samples.natality`\n",
    "    WHERE\n",
    "      state = \"WY\"))"
   ]
  },
  {
   "cell_type": "code",
   "execution_count": null,
   "metadata": {},
   "outputs": [],
   "source": []
  }
 ],
 "metadata": {
  "kernelspec": {
   "display_name": "Python 2",
   "language": "python",
   "name": "python2"
  },
  "language_info": {
   "codemirror_mode": {
    "name": "ipython",
    "version": 2
   },
   "file_extension": ".py",
   "mimetype": "text/x-python",
   "name": "python",
   "nbconvert_exporter": "python",
   "pygments_lexer": "ipython2",
   "version": "2.7.15"
  }
 },
 "nbformat": 4,
 "nbformat_minor": 1
}
